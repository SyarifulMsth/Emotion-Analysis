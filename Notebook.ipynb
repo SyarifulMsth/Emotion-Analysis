{
  "nbformat": 4,
  "nbformat_minor": 0,
  "metadata": {
    "colab": {
      "provenance": [],
      "gpuType": "T4"
    },
    "kernelspec": {
      "name": "python3",
      "display_name": "Python 3"
    },
    "language_info": {
      "name": "python"
    },
    "accelerator": "GPU"
  },
  "cells": [
    {
      "cell_type": "markdown",
      "source": [
        "# Emotion Analysis NLP"
      ],
      "metadata": {
        "id": "x7K3CdgDQz-W"
      }
    },
    {
      "cell_type": "markdown",
      "source": [
        "## Business Understanding"
      ],
      "metadata": {
        "id": "cId7SIbmQ-zk"
      }
    },
    {
      "cell_type": "markdown",
      "source": [
        "Building machine learning model untuk emotion analysis. Model machine learing yang akan digunakan yaitu Natural Language Processing (NLP)."
      ],
      "metadata": {
        "id": "mMkAxzs1RK9N"
      }
    },
    {
      "cell_type": "markdown",
      "source": [
        "## Data Understanding"
      ],
      "metadata": {
        "id": "5Q4NUwcsRDA5"
      }
    },
    {
      "cell_type": "code",
      "source": [],
      "metadata": {
        "id": "Ddr-EG6mWmdq"
      },
      "execution_count": null,
      "outputs": []
    },
    {
      "cell_type": "markdown",
      "source": [
        "## Connect Google Colaboratory with Kaggle"
      ],
      "metadata": {
        "id": "TFZ01iU1Rh4Z"
      }
    },
    {
      "cell_type": "code",
      "source": [
        "# kaggle API Token\n",
        "! mkdir ~/.kaggle\n",
        "! cp '/content/drive/MyDrive/Colab Notebooks/Kaggle API/kaggle.json' ~/.kaggle/kaggle.json\n",
        "! chmod 600 ~/.kaggle/kaggle.json\n",
        "! ls ~/.kaggle"
      ],
      "metadata": {
        "colab": {
          "base_uri": "https://localhost:8080/"
        },
        "id": "7_r3X5JxRjEI",
        "outputId": "2a4de877-e692-40d4-db37-415d5a8e620a"
      },
      "execution_count": 1,
      "outputs": [
        {
          "output_type": "stream",
          "name": "stdout",
          "text": [
            "kaggle.json\n"
          ]
        }
      ]
    },
    {
      "cell_type": "markdown",
      "source": [
        "**Dataset Source** : https://www.kaggle.com/datasets/abdallahwagih/emotion-dataset"
      ],
      "metadata": {
        "id": "UePR9C1fRu60"
      }
    },
    {
      "cell_type": "code",
      "source": [
        "! kaggle datasets download abdallahwagih/emotion-dataset"
      ],
      "metadata": {
        "colab": {
          "base_uri": "https://localhost:8080/"
        },
        "id": "-vrM1Py1RtS_",
        "outputId": "2010eade-cde9-453b-d1c7-7eb058b4fa1e"
      },
      "execution_count": 2,
      "outputs": [
        {
          "output_type": "stream",
          "name": "stdout",
          "text": [
            "Downloading emotion-dataset.zip to /content\n",
            "\r  0% 0.00/213k [00:00<?, ?B/s]\n",
            "\r100% 213k/213k [00:00<00:00, 33.1MB/s]\n"
          ]
        }
      ]
    },
    {
      "cell_type": "code",
      "source": [
        "# unzip datasets\n",
        "! unzip emotion-dataset.zip -d /content/data/"
      ],
      "metadata": {
        "colab": {
          "base_uri": "https://localhost:8080/"
        },
        "id": "olRUzZB-SdPj",
        "outputId": "9871350a-d511-489f-f95a-7182966fb8ea"
      },
      "execution_count": 4,
      "outputs": [
        {
          "output_type": "stream",
          "name": "stdout",
          "text": [
            "Archive:  emotion-dataset.zip\n",
            "  inflating: /content/data/Emotion_classify_Data.csv  \n"
          ]
        }
      ]
    },
    {
      "cell_type": "markdown",
      "source": [
        "## Data Acquisition"
      ],
      "metadata": {
        "id": "_1kROsNdREvh"
      }
    },
    {
      "cell_type": "code",
      "source": [
        "import pandas as pd\n",
        "\n",
        "df = pd.read_csv(\"../content/data/Emotion_classify_Data.csv\")"
      ],
      "metadata": {
        "id": "CunRiAEKRMmA"
      },
      "execution_count": 55,
      "outputs": []
    },
    {
      "cell_type": "code",
      "source": [
        "# show data\n",
        "df.head()"
      ],
      "metadata": {
        "colab": {
          "base_uri": "https://localhost:8080/",
          "height": 206
        },
        "id": "1AaAuoNoQ8bu",
        "outputId": "50fdb2dc-bc57-48b1-b47f-775e4fae3e68"
      },
      "execution_count": 56,
      "outputs": [
        {
          "output_type": "execute_result",
          "data": {
            "text/plain": [
              "                                             Comment Emotion\n",
              "0  i seriously hate one subject to death but now ...    fear\n",
              "1                 im so full of life i feel appalled   anger\n",
              "2  i sit here to write i start to dig out my feel...    fear\n",
              "3  ive been really angry with r and i feel like a...     joy\n",
              "4  i feel suspicious if there is no one outside l...    fear"
            ],
            "text/html": [
              "\n",
              "  <div id=\"df-50345672-c2c9-4455-8618-e86adecb01f1\" class=\"colab-df-container\">\n",
              "    <div>\n",
              "<style scoped>\n",
              "    .dataframe tbody tr th:only-of-type {\n",
              "        vertical-align: middle;\n",
              "    }\n",
              "\n",
              "    .dataframe tbody tr th {\n",
              "        vertical-align: top;\n",
              "    }\n",
              "\n",
              "    .dataframe thead th {\n",
              "        text-align: right;\n",
              "    }\n",
              "</style>\n",
              "<table border=\"1\" class=\"dataframe\">\n",
              "  <thead>\n",
              "    <tr style=\"text-align: right;\">\n",
              "      <th></th>\n",
              "      <th>Comment</th>\n",
              "      <th>Emotion</th>\n",
              "    </tr>\n",
              "  </thead>\n",
              "  <tbody>\n",
              "    <tr>\n",
              "      <th>0</th>\n",
              "      <td>i seriously hate one subject to death but now ...</td>\n",
              "      <td>fear</td>\n",
              "    </tr>\n",
              "    <tr>\n",
              "      <th>1</th>\n",
              "      <td>im so full of life i feel appalled</td>\n",
              "      <td>anger</td>\n",
              "    </tr>\n",
              "    <tr>\n",
              "      <th>2</th>\n",
              "      <td>i sit here to write i start to dig out my feel...</td>\n",
              "      <td>fear</td>\n",
              "    </tr>\n",
              "    <tr>\n",
              "      <th>3</th>\n",
              "      <td>ive been really angry with r and i feel like a...</td>\n",
              "      <td>joy</td>\n",
              "    </tr>\n",
              "    <tr>\n",
              "      <th>4</th>\n",
              "      <td>i feel suspicious if there is no one outside l...</td>\n",
              "      <td>fear</td>\n",
              "    </tr>\n",
              "  </tbody>\n",
              "</table>\n",
              "</div>\n",
              "    <div class=\"colab-df-buttons\">\n",
              "\n",
              "  <div class=\"colab-df-container\">\n",
              "    <button class=\"colab-df-convert\" onclick=\"convertToInteractive('df-50345672-c2c9-4455-8618-e86adecb01f1')\"\n",
              "            title=\"Convert this dataframe to an interactive table.\"\n",
              "            style=\"display:none;\">\n",
              "\n",
              "  <svg xmlns=\"http://www.w3.org/2000/svg\" height=\"24px\" viewBox=\"0 -960 960 960\">\n",
              "    <path d=\"M120-120v-720h720v720H120Zm60-500h600v-160H180v160Zm220 220h160v-160H400v160Zm0 220h160v-160H400v160ZM180-400h160v-160H180v160Zm440 0h160v-160H620v160ZM180-180h160v-160H180v160Zm440 0h160v-160H620v160Z\"/>\n",
              "  </svg>\n",
              "    </button>\n",
              "\n",
              "  <style>\n",
              "    .colab-df-container {\n",
              "      display:flex;\n",
              "      gap: 12px;\n",
              "    }\n",
              "\n",
              "    .colab-df-convert {\n",
              "      background-color: #E8F0FE;\n",
              "      border: none;\n",
              "      border-radius: 50%;\n",
              "      cursor: pointer;\n",
              "      display: none;\n",
              "      fill: #1967D2;\n",
              "      height: 32px;\n",
              "      padding: 0 0 0 0;\n",
              "      width: 32px;\n",
              "    }\n",
              "\n",
              "    .colab-df-convert:hover {\n",
              "      background-color: #E2EBFA;\n",
              "      box-shadow: 0px 1px 2px rgba(60, 64, 67, 0.3), 0px 1px 3px 1px rgba(60, 64, 67, 0.15);\n",
              "      fill: #174EA6;\n",
              "    }\n",
              "\n",
              "    .colab-df-buttons div {\n",
              "      margin-bottom: 4px;\n",
              "    }\n",
              "\n",
              "    [theme=dark] .colab-df-convert {\n",
              "      background-color: #3B4455;\n",
              "      fill: #D2E3FC;\n",
              "    }\n",
              "\n",
              "    [theme=dark] .colab-df-convert:hover {\n",
              "      background-color: #434B5C;\n",
              "      box-shadow: 0px 1px 3px 1px rgba(0, 0, 0, 0.15);\n",
              "      filter: drop-shadow(0px 1px 2px rgba(0, 0, 0, 0.3));\n",
              "      fill: #FFFFFF;\n",
              "    }\n",
              "  </style>\n",
              "\n",
              "    <script>\n",
              "      const buttonEl =\n",
              "        document.querySelector('#df-50345672-c2c9-4455-8618-e86adecb01f1 button.colab-df-convert');\n",
              "      buttonEl.style.display =\n",
              "        google.colab.kernel.accessAllowed ? 'block' : 'none';\n",
              "\n",
              "      async function convertToInteractive(key) {\n",
              "        const element = document.querySelector('#df-50345672-c2c9-4455-8618-e86adecb01f1');\n",
              "        const dataTable =\n",
              "          await google.colab.kernel.invokeFunction('convertToInteractive',\n",
              "                                                    [key], {});\n",
              "        if (!dataTable) return;\n",
              "\n",
              "        const docLinkHtml = 'Like what you see? Visit the ' +\n",
              "          '<a target=\"_blank\" href=https://colab.research.google.com/notebooks/data_table.ipynb>data table notebook</a>'\n",
              "          + ' to learn more about interactive tables.';\n",
              "        element.innerHTML = '';\n",
              "        dataTable['output_type'] = 'display_data';\n",
              "        await google.colab.output.renderOutput(dataTable, element);\n",
              "        const docLink = document.createElement('div');\n",
              "        docLink.innerHTML = docLinkHtml;\n",
              "        element.appendChild(docLink);\n",
              "      }\n",
              "    </script>\n",
              "  </div>\n",
              "\n",
              "\n",
              "<div id=\"df-5ba2563c-942c-4021-8e45-6ebd81ae6492\">\n",
              "  <button class=\"colab-df-quickchart\" onclick=\"quickchart('df-5ba2563c-942c-4021-8e45-6ebd81ae6492')\"\n",
              "            title=\"Suggest charts\"\n",
              "            style=\"display:none;\">\n",
              "\n",
              "<svg xmlns=\"http://www.w3.org/2000/svg\" height=\"24px\"viewBox=\"0 0 24 24\"\n",
              "     width=\"24px\">\n",
              "    <g>\n",
              "        <path d=\"M19 3H5c-1.1 0-2 .9-2 2v14c0 1.1.9 2 2 2h14c1.1 0 2-.9 2-2V5c0-1.1-.9-2-2-2zM9 17H7v-7h2v7zm4 0h-2V7h2v10zm4 0h-2v-4h2v4z\"/>\n",
              "    </g>\n",
              "</svg>\n",
              "  </button>\n",
              "\n",
              "<style>\n",
              "  .colab-df-quickchart {\n",
              "      --bg-color: #E8F0FE;\n",
              "      --fill-color: #1967D2;\n",
              "      --hover-bg-color: #E2EBFA;\n",
              "      --hover-fill-color: #174EA6;\n",
              "      --disabled-fill-color: #AAA;\n",
              "      --disabled-bg-color: #DDD;\n",
              "  }\n",
              "\n",
              "  [theme=dark] .colab-df-quickchart {\n",
              "      --bg-color: #3B4455;\n",
              "      --fill-color: #D2E3FC;\n",
              "      --hover-bg-color: #434B5C;\n",
              "      --hover-fill-color: #FFFFFF;\n",
              "      --disabled-bg-color: #3B4455;\n",
              "      --disabled-fill-color: #666;\n",
              "  }\n",
              "\n",
              "  .colab-df-quickchart {\n",
              "    background-color: var(--bg-color);\n",
              "    border: none;\n",
              "    border-radius: 50%;\n",
              "    cursor: pointer;\n",
              "    display: none;\n",
              "    fill: var(--fill-color);\n",
              "    height: 32px;\n",
              "    padding: 0;\n",
              "    width: 32px;\n",
              "  }\n",
              "\n",
              "  .colab-df-quickchart:hover {\n",
              "    background-color: var(--hover-bg-color);\n",
              "    box-shadow: 0 1px 2px rgba(60, 64, 67, 0.3), 0 1px 3px 1px rgba(60, 64, 67, 0.15);\n",
              "    fill: var(--button-hover-fill-color);\n",
              "  }\n",
              "\n",
              "  .colab-df-quickchart-complete:disabled,\n",
              "  .colab-df-quickchart-complete:disabled:hover {\n",
              "    background-color: var(--disabled-bg-color);\n",
              "    fill: var(--disabled-fill-color);\n",
              "    box-shadow: none;\n",
              "  }\n",
              "\n",
              "  .colab-df-spinner {\n",
              "    border: 2px solid var(--fill-color);\n",
              "    border-color: transparent;\n",
              "    border-bottom-color: var(--fill-color);\n",
              "    animation:\n",
              "      spin 1s steps(1) infinite;\n",
              "  }\n",
              "\n",
              "  @keyframes spin {\n",
              "    0% {\n",
              "      border-color: transparent;\n",
              "      border-bottom-color: var(--fill-color);\n",
              "      border-left-color: var(--fill-color);\n",
              "    }\n",
              "    20% {\n",
              "      border-color: transparent;\n",
              "      border-left-color: var(--fill-color);\n",
              "      border-top-color: var(--fill-color);\n",
              "    }\n",
              "    30% {\n",
              "      border-color: transparent;\n",
              "      border-left-color: var(--fill-color);\n",
              "      border-top-color: var(--fill-color);\n",
              "      border-right-color: var(--fill-color);\n",
              "    }\n",
              "    40% {\n",
              "      border-color: transparent;\n",
              "      border-right-color: var(--fill-color);\n",
              "      border-top-color: var(--fill-color);\n",
              "    }\n",
              "    60% {\n",
              "      border-color: transparent;\n",
              "      border-right-color: var(--fill-color);\n",
              "    }\n",
              "    80% {\n",
              "      border-color: transparent;\n",
              "      border-right-color: var(--fill-color);\n",
              "      border-bottom-color: var(--fill-color);\n",
              "    }\n",
              "    90% {\n",
              "      border-color: transparent;\n",
              "      border-bottom-color: var(--fill-color);\n",
              "    }\n",
              "  }\n",
              "</style>\n",
              "\n",
              "  <script>\n",
              "    async function quickchart(key) {\n",
              "      const quickchartButtonEl =\n",
              "        document.querySelector('#' + key + ' button');\n",
              "      quickchartButtonEl.disabled = true;  // To prevent multiple clicks.\n",
              "      quickchartButtonEl.classList.add('colab-df-spinner');\n",
              "      try {\n",
              "        const charts = await google.colab.kernel.invokeFunction(\n",
              "            'suggestCharts', [key], {});\n",
              "      } catch (error) {\n",
              "        console.error('Error during call to suggestCharts:', error);\n",
              "      }\n",
              "      quickchartButtonEl.classList.remove('colab-df-spinner');\n",
              "      quickchartButtonEl.classList.add('colab-df-quickchart-complete');\n",
              "    }\n",
              "    (() => {\n",
              "      let quickchartButtonEl =\n",
              "        document.querySelector('#df-5ba2563c-942c-4021-8e45-6ebd81ae6492 button');\n",
              "      quickchartButtonEl.style.display =\n",
              "        google.colab.kernel.accessAllowed ? 'block' : 'none';\n",
              "    })();\n",
              "  </script>\n",
              "</div>\n",
              "    </div>\n",
              "  </div>\n"
            ],
            "application/vnd.google.colaboratory.intrinsic+json": {
              "type": "dataframe",
              "variable_name": "df",
              "summary": "{\n  \"name\": \"df\",\n  \"rows\": 5937,\n  \"fields\": [\n    {\n      \"column\": \"Comment\",\n      \"properties\": {\n        \"dtype\": \"string\",\n        \"num_unique_values\": 5934,\n        \"samples\": [\n          \"i male are stupid first for woman cry babies and should get over it and you feel really cool for putting the stupid men in their place\",\n          \"im feeling queezy and cant be bothered putting these in order so here goes\",\n          \"i feel completely agitated\"\n        ],\n        \"semantic_type\": \"\",\n        \"description\": \"\"\n      }\n    },\n    {\n      \"column\": \"Emotion\",\n      \"properties\": {\n        \"dtype\": \"category\",\n        \"num_unique_values\": 3,\n        \"samples\": [\n          \"fear\",\n          \"anger\",\n          \"joy\"\n        ],\n        \"semantic_type\": \"\",\n        \"description\": \"\"\n      }\n    }\n  ]\n}"
            }
          },
          "metadata": {},
          "execution_count": 56
        }
      ]
    },
    {
      "cell_type": "code",
      "source": [
        "sample_comments = df['Comment'].sample(5)\n",
        "for comment in sample_comments:\n",
        "    print(comment)"
      ],
      "metadata": {
        "colab": {
          "base_uri": "https://localhost:8080/"
        },
        "id": "FML9O4pVh7kS",
        "outputId": "c74f6d8e-d121-443f-e937-66b629372f68"
      },
      "execution_count": 97,
      "outputs": [
        {
          "output_type": "stream",
          "name": "stdout",
          "text": [
            "feeling little nervous anxious never second guessing decision\n",
            "feel weird yuuki talk girl\n",
            "feel irritated missed direct instruction master lee never passed casually admit body feel like need rest\n",
            "feel like continue bridge lesson since continuity going vital learn game\n",
            "feel rich pas see penny\n"
          ]
        }
      ]
    },
    {
      "cell_type": "code",
      "source": [
        "# check dimensionality\n",
        "df.shape"
      ],
      "metadata": {
        "colab": {
          "base_uri": "https://localhost:8080/"
        },
        "id": "ejTZmMLYQ8fJ",
        "outputId": "869572f6-81e2-4b58-f25e-ec3147c99a4e"
      },
      "execution_count": 57,
      "outputs": [
        {
          "output_type": "execute_result",
          "data": {
            "text/plain": [
              "(5937, 2)"
            ]
          },
          "metadata": {},
          "execution_count": 57
        }
      ]
    },
    {
      "cell_type": "markdown",
      "source": [
        "## Text Cleaning"
      ],
      "metadata": {
        "id": "pb7pUeTxQ8iN"
      }
    },
    {
      "cell_type": "code",
      "source": [
        "# info\n",
        "df.info()"
      ],
      "metadata": {
        "colab": {
          "base_uri": "https://localhost:8080/"
        },
        "id": "8VBeB37ZTaeN",
        "outputId": "fbfc08c4-30ec-405d-b6e9-8e81e50fc855"
      },
      "execution_count": 58,
      "outputs": [
        {
          "output_type": "stream",
          "name": "stdout",
          "text": [
            "<class 'pandas.core.frame.DataFrame'>\n",
            "RangeIndex: 5937 entries, 0 to 5936\n",
            "Data columns (total 2 columns):\n",
            " #   Column   Non-Null Count  Dtype \n",
            "---  ------   --------------  ----- \n",
            " 0   Comment  5937 non-null   object\n",
            " 1   Emotion  5937 non-null   object\n",
            "dtypes: object(2)\n",
            "memory usage: 92.9+ KB\n"
          ]
        }
      ]
    },
    {
      "cell_type": "code",
      "source": [
        "# check missing values\n",
        "df.isnull().sum()"
      ],
      "metadata": {
        "colab": {
          "base_uri": "https://localhost:8080/"
        },
        "id": "H6hDTnR-Ttp9",
        "outputId": "de653885-8b51-464a-db17-3916dc4a0cb0"
      },
      "execution_count": 59,
      "outputs": [
        {
          "output_type": "execute_result",
          "data": {
            "text/plain": [
              "Comment    0\n",
              "Emotion    0\n",
              "dtype: int64"
            ]
          },
          "metadata": {},
          "execution_count": 59
        }
      ]
    },
    {
      "cell_type": "code",
      "source": [
        "# check duplicates data\n",
        "df.duplicated().sum()"
      ],
      "metadata": {
        "colab": {
          "base_uri": "https://localhost:8080/"
        },
        "id": "WwqJVpmoUFbi",
        "outputId": "64499ef4-1d72-4976-9207-36f85a0e6015"
      },
      "execution_count": 60,
      "outputs": [
        {
          "output_type": "execute_result",
          "data": {
            "text/plain": [
              "0"
            ]
          },
          "metadata": {},
          "execution_count": 60
        }
      ]
    },
    {
      "cell_type": "markdown",
      "source": [
        "### Label Distribution"
      ],
      "metadata": {
        "id": "KUnymjp2VBfg"
      }
    },
    {
      "cell_type": "code",
      "source": [
        "df.info()"
      ],
      "metadata": {
        "colab": {
          "base_uri": "https://localhost:8080/"
        },
        "id": "EbeGIcytUvIt",
        "outputId": "019b752e-1013-45fa-a4c1-96f4675fda1d"
      },
      "execution_count": 61,
      "outputs": [
        {
          "output_type": "stream",
          "name": "stdout",
          "text": [
            "<class 'pandas.core.frame.DataFrame'>\n",
            "RangeIndex: 5937 entries, 0 to 5936\n",
            "Data columns (total 2 columns):\n",
            " #   Column   Non-Null Count  Dtype \n",
            "---  ------   --------------  ----- \n",
            " 0   Comment  5937 non-null   object\n",
            " 1   Emotion  5937 non-null   object\n",
            "dtypes: object(2)\n",
            "memory usage: 92.9+ KB\n"
          ]
        }
      ]
    },
    {
      "cell_type": "code",
      "source": [
        "df.columns"
      ],
      "metadata": {
        "colab": {
          "base_uri": "https://localhost:8080/"
        },
        "id": "Ft-hMiTcQ8s8",
        "outputId": "ea1c6ddd-4a99-401b-cf9d-915930f7ecd0"
      },
      "execution_count": 62,
      "outputs": [
        {
          "output_type": "execute_result",
          "data": {
            "text/plain": [
              "Index(['Comment', 'Emotion'], dtype='object')"
            ]
          },
          "metadata": {},
          "execution_count": 62
        }
      ]
    },
    {
      "cell_type": "code",
      "source": [
        "df['Emotion'].value_counts()"
      ],
      "metadata": {
        "colab": {
          "base_uri": "https://localhost:8080/"
        },
        "id": "rv5OqQqlUutK",
        "outputId": "d58221e3-3cfa-4043-bb56-3d7602ff56f2"
      },
      "execution_count": 63,
      "outputs": [
        {
          "output_type": "execute_result",
          "data": {
            "text/plain": [
              "anger    2000\n",
              "joy      2000\n",
              "fear     1937\n",
              "Name: Emotion, dtype: int64"
            ]
          },
          "metadata": {},
          "execution_count": 63
        }
      ]
    },
    {
      "cell_type": "markdown",
      "source": [
        "## Pre-Processing"
      ],
      "metadata": {
        "id": "PMh4HZg4Uq-y"
      }
    },
    {
      "cell_type": "code",
      "source": [
        "import re\n",
        "import string\n",
        "import nltk\n",
        "\n",
        "import numpy as np\n",
        "import tensorflow as tf\n",
        "import matplotlib.pyplot as plt\n",
        "\n",
        "from nltk.corpus import stopwords\n",
        "from nltk.corpus import wordnet as wn\n",
        "from nltk.stem import WordNetLemmatizer\n",
        "from sklearn.model_selection import train_test_split\n",
        "\n",
        "from tensorflow.keras.preprocessing.text import Tokenizer\n",
        "from tensorflow.keras.preprocessing.sequence import pad_sequences\n",
        "\n",
        "nltk.download('wordnet')\n",
        "nltk.download('stopwords')\n",
        "nltk.download('averaged_perceptron_tagger')"
      ],
      "metadata": {
        "colab": {
          "base_uri": "https://localhost:8080/"
        },
        "id": "4-0NsxzOWsCg",
        "outputId": "f6533999-7fbd-43e5-d04c-123e87fa4caf"
      },
      "execution_count": 64,
      "outputs": [
        {
          "output_type": "stream",
          "name": "stderr",
          "text": [
            "[nltk_data] Downloading package wordnet to /root/nltk_data...\n",
            "[nltk_data]   Package wordnet is already up-to-date!\n",
            "[nltk_data] Downloading package stopwords to /root/nltk_data...\n",
            "[nltk_data]   Package stopwords is already up-to-date!\n",
            "[nltk_data] Downloading package averaged_perceptron_tagger to\n",
            "[nltk_data]     /root/nltk_data...\n",
            "[nltk_data]   Package averaged_perceptron_tagger is already up-to-\n",
            "[nltk_data]       date!\n"
          ]
        },
        {
          "output_type": "execute_result",
          "data": {
            "text/plain": [
              "True"
            ]
          },
          "metadata": {},
          "execution_count": 64
        }
      ]
    },
    {
      "cell_type": "code",
      "source": [
        "# Fungsi untuk membersihkan teks\n",
        "def clean_text(df):\n",
        "    # Fungsi untuk mengonversi teks menjadi lowercase\n",
        "    def convert_to_lower(data):\n",
        "        return data.lower()\n",
        "\n",
        "    # Fungsi untuk menghapus tanda baca\n",
        "    def remove_punctuation(data):\n",
        "        return data.translate(str.maketrans('', '', string.punctuation))\n",
        "\n",
        "    # Fungsi untuk lemmatisasi\n",
        "    def lemmatize(data):\n",
        "        lemmatizer = WordNetLemmatizer()\n",
        "        pos_dict = {'N': wn.NOUN, 'V': wn.VERB, 'J': wn.ADJ, 'R': wn.ADV}\n",
        "        return ' '.join([lemmatizer.lemmatize(w, pos_dict.get(t, wn.NOUN)) for w, t in nltk.pos_tag(data.split())])\n",
        "\n",
        "    # Fungsi untuk menghapus angka\n",
        "    def remove_numbers(data):\n",
        "        return re.sub('[0-9]+', '', data)\n",
        "\n",
        "    # Fungsi untuk menghapus stopwords\n",
        "    stop_words = set(stopwords.words('english'))\n",
        "\n",
        "    def remove_stopwords(data):\n",
        "        return ' '.join([w for w in data.split() if w.lower() not in stop_words])\n",
        "\n",
        "    # Fungsi untuk menghapus karakter khusus\n",
        "    def remove_special_characters(text):\n",
        "        for char in string.punctuation:\n",
        "            text = text.replace(char, '')\n",
        "        return text\n",
        "\n",
        "    # Menggunakan fungsi-fungsi di atas untuk membersihkan teks dalam kolom 'text'\n",
        "    df['Comment'] = df['Comment'].apply(lambda x: convert_to_lower(x))\n",
        "    df['Comment'] = df['Comment'].apply(lambda x: remove_punctuation(x))\n",
        "    df['Comment'] = df['Comment'].apply(lambda x: lemmatize(x))\n",
        "    df['Comment'] = df['Comment'].apply(lambda x: remove_numbers(x))\n",
        "    df['Comment'] = df['Comment'].apply(lambda x: remove_stopwords(x))\n",
        "    df['Comment'] = df['Comment'].apply(lambda x: remove_special_characters(x))\n",
        "\n",
        "    return df"
      ],
      "metadata": {
        "id": "mMv_7fJFZJr1"
      },
      "execution_count": 65,
      "outputs": []
    },
    {
      "cell_type": "code",
      "source": [
        "df = clean_text(df)"
      ],
      "metadata": {
        "id": "OVJ7bZrKX2Bi"
      },
      "execution_count": 66,
      "outputs": []
    },
    {
      "cell_type": "code",
      "source": [
        "df.head()"
      ],
      "metadata": {
        "colab": {
          "base_uri": "https://localhost:8080/",
          "height": 206
        },
        "id": "hPzoKRM5cOXD",
        "outputId": "ae30512c-17e1-4770-9347-323e2588cbe5"
      },
      "execution_count": 67,
      "outputs": [
        {
          "output_type": "execute_result",
          "data": {
            "text/plain": [
              "                                             Comment Emotion\n",
              "0  seriously hate one subject death feel reluctan...    fear\n",
              "1                         im full life feel appalled   anger\n",
              "2  sit write start dig feeling think afraid accep...    fear\n",
              "3  ive really angry r feel like idiot trusting fi...     joy\n",
              "4  feel suspicious one outside like rapture ha ha...    fear"
            ],
            "text/html": [
              "\n",
              "  <div id=\"df-36c53fec-4790-4a52-940c-b446b96767ab\" class=\"colab-df-container\">\n",
              "    <div>\n",
              "<style scoped>\n",
              "    .dataframe tbody tr th:only-of-type {\n",
              "        vertical-align: middle;\n",
              "    }\n",
              "\n",
              "    .dataframe tbody tr th {\n",
              "        vertical-align: top;\n",
              "    }\n",
              "\n",
              "    .dataframe thead th {\n",
              "        text-align: right;\n",
              "    }\n",
              "</style>\n",
              "<table border=\"1\" class=\"dataframe\">\n",
              "  <thead>\n",
              "    <tr style=\"text-align: right;\">\n",
              "      <th></th>\n",
              "      <th>Comment</th>\n",
              "      <th>Emotion</th>\n",
              "    </tr>\n",
              "  </thead>\n",
              "  <tbody>\n",
              "    <tr>\n",
              "      <th>0</th>\n",
              "      <td>seriously hate one subject death feel reluctan...</td>\n",
              "      <td>fear</td>\n",
              "    </tr>\n",
              "    <tr>\n",
              "      <th>1</th>\n",
              "      <td>im full life feel appalled</td>\n",
              "      <td>anger</td>\n",
              "    </tr>\n",
              "    <tr>\n",
              "      <th>2</th>\n",
              "      <td>sit write start dig feeling think afraid accep...</td>\n",
              "      <td>fear</td>\n",
              "    </tr>\n",
              "    <tr>\n",
              "      <th>3</th>\n",
              "      <td>ive really angry r feel like idiot trusting fi...</td>\n",
              "      <td>joy</td>\n",
              "    </tr>\n",
              "    <tr>\n",
              "      <th>4</th>\n",
              "      <td>feel suspicious one outside like rapture ha ha...</td>\n",
              "      <td>fear</td>\n",
              "    </tr>\n",
              "  </tbody>\n",
              "</table>\n",
              "</div>\n",
              "    <div class=\"colab-df-buttons\">\n",
              "\n",
              "  <div class=\"colab-df-container\">\n",
              "    <button class=\"colab-df-convert\" onclick=\"convertToInteractive('df-36c53fec-4790-4a52-940c-b446b96767ab')\"\n",
              "            title=\"Convert this dataframe to an interactive table.\"\n",
              "            style=\"display:none;\">\n",
              "\n",
              "  <svg xmlns=\"http://www.w3.org/2000/svg\" height=\"24px\" viewBox=\"0 -960 960 960\">\n",
              "    <path d=\"M120-120v-720h720v720H120Zm60-500h600v-160H180v160Zm220 220h160v-160H400v160Zm0 220h160v-160H400v160ZM180-400h160v-160H180v160Zm440 0h160v-160H620v160ZM180-180h160v-160H180v160Zm440 0h160v-160H620v160Z\"/>\n",
              "  </svg>\n",
              "    </button>\n",
              "\n",
              "  <style>\n",
              "    .colab-df-container {\n",
              "      display:flex;\n",
              "      gap: 12px;\n",
              "    }\n",
              "\n",
              "    .colab-df-convert {\n",
              "      background-color: #E8F0FE;\n",
              "      border: none;\n",
              "      border-radius: 50%;\n",
              "      cursor: pointer;\n",
              "      display: none;\n",
              "      fill: #1967D2;\n",
              "      height: 32px;\n",
              "      padding: 0 0 0 0;\n",
              "      width: 32px;\n",
              "    }\n",
              "\n",
              "    .colab-df-convert:hover {\n",
              "      background-color: #E2EBFA;\n",
              "      box-shadow: 0px 1px 2px rgba(60, 64, 67, 0.3), 0px 1px 3px 1px rgba(60, 64, 67, 0.15);\n",
              "      fill: #174EA6;\n",
              "    }\n",
              "\n",
              "    .colab-df-buttons div {\n",
              "      margin-bottom: 4px;\n",
              "    }\n",
              "\n",
              "    [theme=dark] .colab-df-convert {\n",
              "      background-color: #3B4455;\n",
              "      fill: #D2E3FC;\n",
              "    }\n",
              "\n",
              "    [theme=dark] .colab-df-convert:hover {\n",
              "      background-color: #434B5C;\n",
              "      box-shadow: 0px 1px 3px 1px rgba(0, 0, 0, 0.15);\n",
              "      filter: drop-shadow(0px 1px 2px rgba(0, 0, 0, 0.3));\n",
              "      fill: #FFFFFF;\n",
              "    }\n",
              "  </style>\n",
              "\n",
              "    <script>\n",
              "      const buttonEl =\n",
              "        document.querySelector('#df-36c53fec-4790-4a52-940c-b446b96767ab button.colab-df-convert');\n",
              "      buttonEl.style.display =\n",
              "        google.colab.kernel.accessAllowed ? 'block' : 'none';\n",
              "\n",
              "      async function convertToInteractive(key) {\n",
              "        const element = document.querySelector('#df-36c53fec-4790-4a52-940c-b446b96767ab');\n",
              "        const dataTable =\n",
              "          await google.colab.kernel.invokeFunction('convertToInteractive',\n",
              "                                                    [key], {});\n",
              "        if (!dataTable) return;\n",
              "\n",
              "        const docLinkHtml = 'Like what you see? Visit the ' +\n",
              "          '<a target=\"_blank\" href=https://colab.research.google.com/notebooks/data_table.ipynb>data table notebook</a>'\n",
              "          + ' to learn more about interactive tables.';\n",
              "        element.innerHTML = '';\n",
              "        dataTable['output_type'] = 'display_data';\n",
              "        await google.colab.output.renderOutput(dataTable, element);\n",
              "        const docLink = document.createElement('div');\n",
              "        docLink.innerHTML = docLinkHtml;\n",
              "        element.appendChild(docLink);\n",
              "      }\n",
              "    </script>\n",
              "  </div>\n",
              "\n",
              "\n",
              "<div id=\"df-428dce43-5ea1-4ef9-bf0d-30f9823b2025\">\n",
              "  <button class=\"colab-df-quickchart\" onclick=\"quickchart('df-428dce43-5ea1-4ef9-bf0d-30f9823b2025')\"\n",
              "            title=\"Suggest charts\"\n",
              "            style=\"display:none;\">\n",
              "\n",
              "<svg xmlns=\"http://www.w3.org/2000/svg\" height=\"24px\"viewBox=\"0 0 24 24\"\n",
              "     width=\"24px\">\n",
              "    <g>\n",
              "        <path d=\"M19 3H5c-1.1 0-2 .9-2 2v14c0 1.1.9 2 2 2h14c1.1 0 2-.9 2-2V5c0-1.1-.9-2-2-2zM9 17H7v-7h2v7zm4 0h-2V7h2v10zm4 0h-2v-4h2v4z\"/>\n",
              "    </g>\n",
              "</svg>\n",
              "  </button>\n",
              "\n",
              "<style>\n",
              "  .colab-df-quickchart {\n",
              "      --bg-color: #E8F0FE;\n",
              "      --fill-color: #1967D2;\n",
              "      --hover-bg-color: #E2EBFA;\n",
              "      --hover-fill-color: #174EA6;\n",
              "      --disabled-fill-color: #AAA;\n",
              "      --disabled-bg-color: #DDD;\n",
              "  }\n",
              "\n",
              "  [theme=dark] .colab-df-quickchart {\n",
              "      --bg-color: #3B4455;\n",
              "      --fill-color: #D2E3FC;\n",
              "      --hover-bg-color: #434B5C;\n",
              "      --hover-fill-color: #FFFFFF;\n",
              "      --disabled-bg-color: #3B4455;\n",
              "      --disabled-fill-color: #666;\n",
              "  }\n",
              "\n",
              "  .colab-df-quickchart {\n",
              "    background-color: var(--bg-color);\n",
              "    border: none;\n",
              "    border-radius: 50%;\n",
              "    cursor: pointer;\n",
              "    display: none;\n",
              "    fill: var(--fill-color);\n",
              "    height: 32px;\n",
              "    padding: 0;\n",
              "    width: 32px;\n",
              "  }\n",
              "\n",
              "  .colab-df-quickchart:hover {\n",
              "    background-color: var(--hover-bg-color);\n",
              "    box-shadow: 0 1px 2px rgba(60, 64, 67, 0.3), 0 1px 3px 1px rgba(60, 64, 67, 0.15);\n",
              "    fill: var(--button-hover-fill-color);\n",
              "  }\n",
              "\n",
              "  .colab-df-quickchart-complete:disabled,\n",
              "  .colab-df-quickchart-complete:disabled:hover {\n",
              "    background-color: var(--disabled-bg-color);\n",
              "    fill: var(--disabled-fill-color);\n",
              "    box-shadow: none;\n",
              "  }\n",
              "\n",
              "  .colab-df-spinner {\n",
              "    border: 2px solid var(--fill-color);\n",
              "    border-color: transparent;\n",
              "    border-bottom-color: var(--fill-color);\n",
              "    animation:\n",
              "      spin 1s steps(1) infinite;\n",
              "  }\n",
              "\n",
              "  @keyframes spin {\n",
              "    0% {\n",
              "      border-color: transparent;\n",
              "      border-bottom-color: var(--fill-color);\n",
              "      border-left-color: var(--fill-color);\n",
              "    }\n",
              "    20% {\n",
              "      border-color: transparent;\n",
              "      border-left-color: var(--fill-color);\n",
              "      border-top-color: var(--fill-color);\n",
              "    }\n",
              "    30% {\n",
              "      border-color: transparent;\n",
              "      border-left-color: var(--fill-color);\n",
              "      border-top-color: var(--fill-color);\n",
              "      border-right-color: var(--fill-color);\n",
              "    }\n",
              "    40% {\n",
              "      border-color: transparent;\n",
              "      border-right-color: var(--fill-color);\n",
              "      border-top-color: var(--fill-color);\n",
              "    }\n",
              "    60% {\n",
              "      border-color: transparent;\n",
              "      border-right-color: var(--fill-color);\n",
              "    }\n",
              "    80% {\n",
              "      border-color: transparent;\n",
              "      border-right-color: var(--fill-color);\n",
              "      border-bottom-color: var(--fill-color);\n",
              "    }\n",
              "    90% {\n",
              "      border-color: transparent;\n",
              "      border-bottom-color: var(--fill-color);\n",
              "    }\n",
              "  }\n",
              "</style>\n",
              "\n",
              "  <script>\n",
              "    async function quickchart(key) {\n",
              "      const quickchartButtonEl =\n",
              "        document.querySelector('#' + key + ' button');\n",
              "      quickchartButtonEl.disabled = true;  // To prevent multiple clicks.\n",
              "      quickchartButtonEl.classList.add('colab-df-spinner');\n",
              "      try {\n",
              "        const charts = await google.colab.kernel.invokeFunction(\n",
              "            'suggestCharts', [key], {});\n",
              "      } catch (error) {\n",
              "        console.error('Error during call to suggestCharts:', error);\n",
              "      }\n",
              "      quickchartButtonEl.classList.remove('colab-df-spinner');\n",
              "      quickchartButtonEl.classList.add('colab-df-quickchart-complete');\n",
              "    }\n",
              "    (() => {\n",
              "      let quickchartButtonEl =\n",
              "        document.querySelector('#df-428dce43-5ea1-4ef9-bf0d-30f9823b2025 button');\n",
              "      quickchartButtonEl.style.display =\n",
              "        google.colab.kernel.accessAllowed ? 'block' : 'none';\n",
              "    })();\n",
              "  </script>\n",
              "</div>\n",
              "    </div>\n",
              "  </div>\n"
            ],
            "application/vnd.google.colaboratory.intrinsic+json": {
              "type": "dataframe",
              "variable_name": "df",
              "summary": "{\n  \"name\": \"df\",\n  \"rows\": 5937,\n  \"fields\": [\n    {\n      \"column\": \"Comment\",\n      \"properties\": {\n        \"dtype\": \"string\",\n        \"num_unique_values\": 5906,\n        \"samples\": [\n          \"manage reach conclusion musing feel somehow resolved\",\n          \"im marketer couldnt bothered investigate make feel consumer probably cant bothered either\",\n          \"feel greedy obsession continues sustainability growth hindered\"\n        ],\n        \"semantic_type\": \"\",\n        \"description\": \"\"\n      }\n    },\n    {\n      \"column\": \"Emotion\",\n      \"properties\": {\n        \"dtype\": \"category\",\n        \"num_unique_values\": 3,\n        \"samples\": [\n          \"fear\",\n          \"anger\",\n          \"joy\"\n        ],\n        \"semantic_type\": \"\",\n        \"description\": \"\"\n      }\n    }\n  ]\n}"
            }
          },
          "metadata": {},
          "execution_count": 67
        }
      ]
    },
    {
      "cell_type": "markdown",
      "source": [
        "## Parameters\n"
      ],
      "metadata": {
        "id": "wyT-71zjWrDx"
      }
    },
    {
      "cell_type": "code",
      "source": [
        "vocab_size = 1000\n",
        "embedding_dim = 16\n",
        "max_length = 120\n",
        "trunc_type = 'post'\n",
        "padding_type = 'post'\n",
        "oov_tok = \"<OOV>\"\n",
        "training_portion = .8"
      ],
      "metadata": {
        "id": "M4QxZXZCfbh0"
      },
      "execution_count": 68,
      "outputs": []
    },
    {
      "cell_type": "markdown",
      "source": [
        "## Split dataset"
      ],
      "metadata": {
        "id": "35KsakusgKbD"
      }
    },
    {
      "cell_type": "code",
      "source": [
        "training_sentences, validation_sentences, training_labels, validation_labels = train_test_split(df['Comment'],\n",
        "                                                                                                df['Emotion'],\n",
        "                                                                                                train_size=training_portion,\n",
        "                                                                                                shuffle=False)"
      ],
      "metadata": {
        "id": "f1rv5Qfm09vj"
      },
      "execution_count": 69,
      "outputs": []
    },
    {
      "cell_type": "markdown",
      "source": [
        "### Tokenization"
      ],
      "metadata": {
        "id": "SQtyHhpiWrHQ"
      }
    },
    {
      "cell_type": "code",
      "source": [
        "# Fit your tokenizer with training data\n",
        "tokenizer = Tokenizer(num_words=vocab_size, oov_token=oov_tok)\n",
        "tokenizer.fit_on_texts(training_sentences)\n",
        "\n",
        "# Convert sentences to sequences and pad them\n",
        "sequences_train = tokenizer.texts_to_sequences(training_sentences)\n",
        "sequences_validation = tokenizer.texts_to_sequences(validation_sentences)\n",
        "padded_train = pad_sequences(sequences_train, maxlen=max_length, truncating=trunc_type, padding=padding_type)\n",
        "padded_validation = pad_sequences(sequences_validation, maxlen=max_length, truncating=trunc_type,\n",
        "                                  padding=padding_type)\n",
        "\n",
        "label_tokenizer = Tokenizer()\n",
        "label_tokenizer.fit_on_texts(df['Emotion'])\n",
        "\n",
        "# You can also use Tokenizer to encode your label.\n",
        "training_label_seq = np.array(label_tokenizer.texts_to_sequences(training_labels))\n",
        "validation_label_seq = np.array(label_tokenizer.texts_to_sequences(validation_labels))"
      ],
      "metadata": {
        "id": "cQXUNjLakAXl"
      },
      "execution_count": 70,
      "outputs": []
    },
    {
      "cell_type": "markdown",
      "source": [
        "## Callbacks for training"
      ],
      "metadata": {
        "id": "tgYrE2RPlA8I"
      }
    },
    {
      "cell_type": "code",
      "source": [
        "# use if needed\n",
        "class EarlyStopping(tf.keras.callbacks.Callback):\n",
        "    def on_epoch_end(self, epoch, logs={}):\n",
        "        if logs.get('accuracy') > 0.90 and logs.get('val_accuracy') > 0.90 :\n",
        "            print(\"\\nThreshold reached. Stopping training...\")\n",
        "            self.model.stop_training = True\n",
        "\n",
        "early_stopping = EarlyStopping()"
      ],
      "metadata": {
        "id": "BgixtLUolDbn"
      },
      "execution_count": 71,
      "outputs": []
    },
    {
      "cell_type": "markdown",
      "source": [
        "## Modeling - RNN Layers"
      ],
      "metadata": {
        "id": "EN3UNXITWrKX"
      }
    },
    {
      "cell_type": "code",
      "source": [
        "rnn_model = tf.keras.Sequential([\n",
        "    tf.keras.layers.Embedding(vocab_size, embedding_dim, input_length=max_length),\n",
        "    tf.keras.layers.Bidirectional(tf.keras.layers.SimpleRNN(64)),\n",
        "    tf.keras.layers.Dropout(0.5),\n",
        "    tf.keras.layers.Dense(4, activation='softmax')\n",
        "])"
      ],
      "metadata": {
        "id": "tvmb0B_NgXK_"
      },
      "execution_count": 108,
      "outputs": []
    },
    {
      "cell_type": "code",
      "source": [
        "rnn_model.summary()"
      ],
      "metadata": {
        "colab": {
          "base_uri": "https://localhost:8080/"
        },
        "id": "ARhViWJygpXz",
        "outputId": "0b64eb2b-44ec-4652-d8ca-f748ba0879f6"
      },
      "execution_count": 109,
      "outputs": [
        {
          "output_type": "stream",
          "name": "stdout",
          "text": [
            "Model: \"sequential_5\"\n",
            "_________________________________________________________________\n",
            " Layer (type)                Output Shape              Param #   \n",
            "=================================================================\n",
            " embedding_5 (Embedding)     (None, 120, 16)           16000     \n",
            "                                                                 \n",
            " bidirectional_7 (Bidirecti  (None, 128)               10368     \n",
            " onal)                                                           \n",
            "                                                                 \n",
            " dropout_5 (Dropout)         (None, 128)               0         \n",
            "                                                                 \n",
            " dense_5 (Dense)             (None, 4)                 516       \n",
            "                                                                 \n",
            "=================================================================\n",
            "Total params: 26884 (105.02 KB)\n",
            "Trainable params: 26884 (105.02 KB)\n",
            "Non-trainable params: 0 (0.00 Byte)\n",
            "_________________________________________________________________\n"
          ]
        }
      ]
    },
    {
      "cell_type": "code",
      "source": [
        "rnn_model.compile(\n",
        "    loss='sparse_categorical_crossentropy',\n",
        "    optimizer=tf.keras.optimizers.Adam(learning_rate=0.001),\n",
        "    metrics=['accuracy'],\n",
        ")"
      ],
      "metadata": {
        "id": "pmLUnYTkgyLV"
      },
      "execution_count": 110,
      "outputs": []
    },
    {
      "cell_type": "code",
      "source": [
        "rnn_history = rnn_model.fit(\n",
        "    padded_train,\n",
        "    training_label_seq,\n",
        "    epochs=20,\n",
        "    validation_data=(padded_validation, validation_label_seq),\n",
        "    verbose=1,\n",
        "    # callbacks=[early_stopping]\n",
        ")"
      ],
      "metadata": {
        "colab": {
          "base_uri": "https://localhost:8080/"
        },
        "id": "zcwne0KYg1W_",
        "outputId": "4f1cd149-f251-402b-9c23-91b8274cff6f"
      },
      "execution_count": 111,
      "outputs": [
        {
          "output_type": "stream",
          "name": "stdout",
          "text": [
            "Epoch 1/20\n",
            "149/149 [==============================] - 11s 63ms/step - loss: 1.1547 - accuracy: 0.3268 - val_loss: 1.0920 - val_accuracy: 0.3923\n",
            "Epoch 2/20\n",
            "149/149 [==============================] - 17s 116ms/step - loss: 1.0845 - accuracy: 0.4150 - val_loss: 1.0295 - val_accuracy: 0.4874\n",
            "Epoch 3/20\n",
            "149/149 [==============================] - 11s 71ms/step - loss: 0.7744 - accuracy: 0.6837 - val_loss: 0.6269 - val_accuracy: 0.7685\n",
            "Epoch 4/20\n",
            "149/149 [==============================] - 12s 83ms/step - loss: 0.5249 - accuracy: 0.8208 - val_loss: 0.6602 - val_accuracy: 0.7256\n",
            "Epoch 5/20\n",
            "149/149 [==============================] - 7s 48ms/step - loss: 0.3715 - accuracy: 0.8751 - val_loss: 0.3880 - val_accuracy: 0.8603\n",
            "Epoch 6/20\n",
            "149/149 [==============================] - 9s 61ms/step - loss: 0.1659 - accuracy: 0.9530 - val_loss: 0.2781 - val_accuracy: 0.9032\n",
            "Epoch 7/20\n",
            "149/149 [==============================] - 7s 47ms/step - loss: 0.1217 - accuracy: 0.9653 - val_loss: 0.2543 - val_accuracy: 0.9141\n",
            "Epoch 8/20\n",
            "149/149 [==============================] - 9s 60ms/step - loss: 0.4473 - accuracy: 0.8374 - val_loss: 0.3394 - val_accuracy: 0.8796\n",
            "Epoch 9/20\n",
            "149/149 [==============================] - 9s 61ms/step - loss: 0.3453 - accuracy: 0.8711 - val_loss: 0.2521 - val_accuracy: 0.9057\n",
            "Epoch 10/20\n",
            "149/149 [==============================] - 7s 50ms/step - loss: 0.1471 - accuracy: 0.9514 - val_loss: 0.2607 - val_accuracy: 0.9057\n",
            "Epoch 11/20\n",
            "149/149 [==============================] - 9s 59ms/step - loss: 0.1016 - accuracy: 0.9693 - val_loss: 0.2539 - val_accuracy: 0.9116\n",
            "Epoch 12/20\n",
            "149/149 [==============================] - 7s 47ms/step - loss: 0.0829 - accuracy: 0.9733 - val_loss: 0.3010 - val_accuracy: 0.8981\n",
            "Epoch 13/20\n",
            "149/149 [==============================] - 9s 60ms/step - loss: 0.0765 - accuracy: 0.9749 - val_loss: 0.2745 - val_accuracy: 0.9066\n",
            "Epoch 14/20\n",
            "149/149 [==============================] - 9s 59ms/step - loss: 0.1742 - accuracy: 0.9467 - val_loss: 0.2858 - val_accuracy: 0.9091\n",
            "Epoch 15/20\n",
            "149/149 [==============================] - 8s 52ms/step - loss: 0.0909 - accuracy: 0.9688 - val_loss: 0.2551 - val_accuracy: 0.9158\n",
            "Epoch 16/20\n",
            "149/149 [==============================] - 9s 61ms/step - loss: 0.0655 - accuracy: 0.9815 - val_loss: 0.2979 - val_accuracy: 0.9049\n",
            "Epoch 17/20\n",
            "149/149 [==============================] - 7s 48ms/step - loss: 0.0640 - accuracy: 0.9815 - val_loss: 0.2723 - val_accuracy: 0.9125\n",
            "Epoch 18/20\n",
            "149/149 [==============================] - 9s 61ms/step - loss: 0.0606 - accuracy: 0.9819 - val_loss: 0.3256 - val_accuracy: 0.9040\n",
            "Epoch 19/20\n",
            "149/149 [==============================] - 8s 56ms/step - loss: 0.0499 - accuracy: 0.9853 - val_loss: 0.2795 - val_accuracy: 0.9175\n",
            "Epoch 20/20\n",
            "149/149 [==============================] - 7s 50ms/step - loss: 0.0426 - accuracy: 0.9880 - val_loss: 0.3154 - val_accuracy: 0.9049\n"
          ]
        }
      ]
    },
    {
      "cell_type": "markdown",
      "source": [
        "## Modeling - LSTM Layer\n"
      ],
      "metadata": {
        "id": "gTVheSR9lTZ9"
      }
    },
    {
      "cell_type": "code",
      "source": [
        "lstm_model = tf.keras.Sequential([\n",
        "    tf.keras.layers.Embedding(vocab_size, embedding_dim, input_length=max_length),\n",
        "    tf.keras.layers.Bidirectional(tf.keras.layers.LSTM(64, return_sequences=True)),\n",
        "    tf.keras.layers.Bidirectional(tf.keras.layers.LSTM(64)),\n",
        "    tf.keras.layers.Dropout(0.5),\n",
        "    tf.keras.layers.Dense(4, activation='softmax')\n",
        "])"
      ],
      "metadata": {
        "id": "153sYSlwWz9F"
      },
      "execution_count": 127,
      "outputs": []
    },
    {
      "cell_type": "code",
      "source": [
        "lstm_model.summary()"
      ],
      "metadata": {
        "colab": {
          "base_uri": "https://localhost:8080/"
        },
        "id": "Iy7acsOGmuqM",
        "outputId": "7d5c59e3-f02a-41c3-f18b-742f3fde5cd7"
      },
      "execution_count": 128,
      "outputs": [
        {
          "output_type": "stream",
          "name": "stdout",
          "text": [
            "Model: \"sequential_7\"\n",
            "_________________________________________________________________\n",
            " Layer (type)                Output Shape              Param #   \n",
            "=================================================================\n",
            " embedding_7 (Embedding)     (None, 120, 16)           16000     \n",
            "                                                                 \n",
            " bidirectional_9 (Bidirecti  (None, 120, 128)          41472     \n",
            " onal)                                                           \n",
            "                                                                 \n",
            " bidirectional_10 (Bidirect  (None, 128)               98816     \n",
            " ional)                                                          \n",
            "                                                                 \n",
            " dropout_7 (Dropout)         (None, 128)               0         \n",
            "                                                                 \n",
            " dense_7 (Dense)             (None, 4)                 516       \n",
            "                                                                 \n",
            "=================================================================\n",
            "Total params: 156804 (612.52 KB)\n",
            "Trainable params: 156804 (612.52 KB)\n",
            "Non-trainable params: 0 (0.00 Byte)\n",
            "_________________________________________________________________\n"
          ]
        }
      ]
    },
    {
      "cell_type": "code",
      "source": [
        "lstm_model.compile(\n",
        "    loss='sparse_categorical_crossentropy',\n",
        "    optimizer=tf.keras.optimizers.Adam(learning_rate=0.001),\n",
        "    metrics=['accuracy'],\n",
        ")"
      ],
      "metadata": {
        "id": "IeoazdPRmJGj"
      },
      "execution_count": 129,
      "outputs": []
    },
    {
      "cell_type": "code",
      "source": [
        "lstm_history = rnn_model.fit(\n",
        "    padded_train,\n",
        "    training_label_seq,\n",
        "    epochs=20,\n",
        "    validation_data=(padded_validation, validation_label_seq),\n",
        "    verbose=1,\n",
        "    # callbacks=[early_stopping]\n",
        ")"
      ],
      "metadata": {
        "colab": {
          "base_uri": "https://localhost:8080/"
        },
        "id": "NNOzV3kPmKlh",
        "outputId": "7c018d06-f01e-483a-96db-218a643de88d"
      },
      "execution_count": 130,
      "outputs": [
        {
          "output_type": "stream",
          "name": "stdout",
          "text": [
            "Epoch 1/20\n",
            "149/149 [==============================] - 7s 47ms/step - loss: 0.0214 - accuracy: 0.9943 - val_loss: 0.3982 - val_accuracy: 0.9049\n",
            "Epoch 2/20\n",
            "149/149 [==============================] - 9s 60ms/step - loss: 0.0185 - accuracy: 0.9952 - val_loss: 0.3948 - val_accuracy: 0.9057\n",
            "Epoch 3/20\n",
            "149/149 [==============================] - 7s 47ms/step - loss: 0.0257 - accuracy: 0.9916 - val_loss: 0.4815 - val_accuracy: 0.8864\n",
            "Epoch 4/20\n",
            "149/149 [==============================] - 9s 59ms/step - loss: 0.0412 - accuracy: 0.9888 - val_loss: 0.4277 - val_accuracy: 0.8998\n",
            "Epoch 5/20\n",
            "149/149 [==============================] - 8s 56ms/step - loss: 0.0214 - accuracy: 0.9933 - val_loss: 0.4966 - val_accuracy: 0.9032\n",
            "Epoch 6/20\n",
            "149/149 [==============================] - 7s 50ms/step - loss: 0.0521 - accuracy: 0.9829 - val_loss: 0.4839 - val_accuracy: 0.9024\n",
            "Epoch 7/20\n",
            "149/149 [==============================] - 9s 59ms/step - loss: 0.0246 - accuracy: 0.9933 - val_loss: 0.4078 - val_accuracy: 0.9032\n",
            "Epoch 8/20\n",
            "149/149 [==============================] - 7s 47ms/step - loss: 0.0221 - accuracy: 0.9939 - val_loss: 0.4598 - val_accuracy: 0.8998\n",
            "Epoch 9/20\n",
            "149/149 [==============================] - 9s 61ms/step - loss: 0.0173 - accuracy: 0.9958 - val_loss: 0.4798 - val_accuracy: 0.8956\n",
            "Epoch 10/20\n",
            "149/149 [==============================] - 8s 54ms/step - loss: 0.0155 - accuracy: 0.9945 - val_loss: 0.4589 - val_accuracy: 0.9032\n",
            "Epoch 11/20\n",
            "149/149 [==============================] - 8s 54ms/step - loss: 0.1481 - accuracy: 0.9554 - val_loss: 0.3810 - val_accuracy: 0.9074\n",
            "Epoch 12/20\n",
            "149/149 [==============================] - 9s 61ms/step - loss: 0.0446 - accuracy: 0.9865 - val_loss: 0.3724 - val_accuracy: 0.9082\n",
            "Epoch 13/20\n",
            "149/149 [==============================] - 7s 47ms/step - loss: 0.0284 - accuracy: 0.9912 - val_loss: 0.4096 - val_accuracy: 0.9057\n",
            "Epoch 14/20\n",
            "149/149 [==============================] - 9s 59ms/step - loss: 0.0247 - accuracy: 0.9920 - val_loss: 0.4451 - val_accuracy: 0.8965\n",
            "Epoch 15/20\n",
            "149/149 [==============================] - 7s 47ms/step - loss: 0.0159 - accuracy: 0.9949 - val_loss: 0.4008 - val_accuracy: 0.9108\n",
            "Epoch 16/20\n",
            "149/149 [==============================] - 11s 72ms/step - loss: 0.0142 - accuracy: 0.9952 - val_loss: 0.4041 - val_accuracy: 0.9141\n",
            "Epoch 17/20\n",
            "149/149 [==============================] - 9s 64ms/step - loss: 0.0129 - accuracy: 0.9966 - val_loss: 0.4356 - val_accuracy: 0.9024\n",
            "Epoch 18/20\n",
            "149/149 [==============================] - 10s 65ms/step - loss: 0.0122 - accuracy: 0.9962 - val_loss: 0.4360 - val_accuracy: 0.9032\n",
            "Epoch 19/20\n",
            "149/149 [==============================] - 9s 58ms/step - loss: 0.0143 - accuracy: 0.9956 - val_loss: 0.4756 - val_accuracy: 0.9032\n",
            "Epoch 20/20\n",
            "149/149 [==============================] - 9s 62ms/step - loss: 0.0114 - accuracy: 0.9971 - val_loss: 0.4676 - val_accuracy: 0.9024\n"
          ]
        }
      ]
    },
    {
      "cell_type": "markdown",
      "source": [
        "## Plot The Training & Validation Accuracies for Each Epochs"
      ],
      "metadata": {
        "id": "_TvK_yjCjmmr"
      }
    },
    {
      "cell_type": "code",
      "source": [
        "plt.figure(figsize=(12, 6))\n",
        "\n",
        "# Plot RNN Training and Validation Accuracy/Loss\n",
        "plt.subplot(2, 2, 1)\n",
        "plt.plot(rnn_history.history['accuracy'], label='RNN Training Accuracy')\n",
        "plt.plot(rnn_history.history['val_accuracy'], label='RNN Validation Accuracy')\n",
        "plt.xlabel('Epoch')\n",
        "plt.ylabel('Accuracy')\n",
        "plt.title('RNN Training and Validation Accuracy')\n",
        "plt.legend()\n",
        "\n",
        "plt.subplot(2, 2, 2)\n",
        "plt.plot(rnn_history.history['loss'], label='RNN Training Loss')\n",
        "plt.plot(rnn_history.history['val_loss'], label='RNN Validation Loss')\n",
        "plt.xlabel('Epoch')\n",
        "plt.ylabel('Log loss')\n",
        "plt.title('RNN Training and Validation Loss')\n",
        "plt.legend()\n",
        "\n",
        "# Plot LSTM Training and Validation Accuracy/Loss\n",
        "plt.subplot(2, 2, 3)\n",
        "plt.plot(lstm_history.history['accuracy'], label='LSTM Training Accuracy')\n",
        "plt.plot(lstm_history.history['val_accuracy'], label='LSTM Validation Accuracy')\n",
        "plt.xlabel('Epoch')\n",
        "plt.ylabel('Accuracy')\n",
        "plt.title('LSTM Training and Validation Accuracy')\n",
        "plt.legend()\n",
        "\n",
        "plt.subplot(2, 2, 4)\n",
        "plt.plot(lstm_history.history['loss'], label='LSTM Training Loss')\n",
        "plt.plot(lstm_history.history['val_loss'], label='LSTM Validation Loss')\n",
        "plt.xlabel('Epoch')\n",
        "plt.ylabel('Log loss')\n",
        "plt.title('LSTM Training and Validation Loss')\n",
        "plt.legend()\n",
        "\n",
        "plt.tight_layout()\n",
        "plt.show()"
      ],
      "metadata": {
        "id": "C4b99GucmTZ3",
        "colab": {
          "base_uri": "https://localhost:8080/",
          "height": 607
        },
        "outputId": "83fdd708-6852-4029-e7c8-ed0a5e23ba27"
      },
      "execution_count": 131,
      "outputs": [
        {
          "output_type": "display_data",
          "data": {
            "text/plain": [
              "<Figure size 1200x600 with 4 Axes>"
            ],
            "image/png": "[encoded data removed]"
          },
          "metadata": {}
        }
      ]
    },
    {
      "cell_type": "markdown",
      "source": [
        "## Evaluation"
      ],
      "metadata": {
        "id": "VaWtWtJ-W0BX"
      }
    },
    {
      "cell_type": "code",
      "source": [
        "import matplotlib.pyplot as plt\n",
        "import seaborn as sns\n",
        "from sklearn.metrics import classification_report"
      ],
      "metadata": {
        "id": "HnovaI0KvJns"
      },
      "execution_count": 136,
      "outputs": []
    },
    {
      "cell_type": "code",
      "source": [
        "# Classification report\n",
        "y_pred = np.argmax(lstm_model.predict(padded_validation), axis=-1)\n",
        "print(\"Classification Report:\")\n",
        "print(classification_report(validation_label_seq, y_pred, zero_division=1))"
      ],
      "metadata": {
        "colab": {
          "base_uri": "https://localhost:8080/"
        },
        "id": "U9jn4Bjiy2f_",
        "outputId": "7ea864c9-155a-4df8-ee93-9bbbc4bc067a"
      },
      "execution_count": 137,
      "outputs": [
        {
          "output_type": "stream",
          "name": "stdout",
          "text": [
            "38/38 [==============================] - 6s 171ms/step\n",
            "Classification Report:\n",
            "              precision    recall  f1-score   support\n",
            "\n",
            "           1       1.00      0.00      0.00       390\n",
            "           2       1.00      0.00      0.00       396\n",
            "           3       0.34      1.00      0.51       402\n",
            "\n",
            "    accuracy                           0.34      1188\n",
            "   macro avg       0.78      0.33      0.17      1188\n",
            "weighted avg       0.78      0.34      0.17      1188\n",
            "\n"
          ]
        }
      ]
    },
    {
      "cell_type": "code",
      "source": [
        "# Classification report\n",
        "y_pred = np.argmax(rnn_model.predict(padded_validation), axis=-1)\n",
        "print(\"Classification Report:\")\n",
        "print(classification_report(validation_label_seq, y_pred, zero_division=1))"
      ],
      "metadata": {
        "colab": {
          "base_uri": "https://localhost:8080/"
        },
        "id": "0vEhZfMhy3Aj",
        "outputId": "73cc998a-1366-4468-a2a4-e35a938501c5"
      },
      "execution_count": 138,
      "outputs": [
        {
          "output_type": "stream",
          "name": "stdout",
          "text": [
            "38/38 [==============================] - 0s 12ms/step\n",
            "Classification Report:\n",
            "              precision    recall  f1-score   support\n",
            "\n",
            "           1       0.92      0.88      0.90       390\n",
            "           2       0.88      0.92      0.90       396\n",
            "           3       0.91      0.91      0.91       402\n",
            "\n",
            "    accuracy                           0.90      1188\n",
            "   macro avg       0.90      0.90      0.90      1188\n",
            "weighted avg       0.90      0.90      0.90      1188\n",
            "\n"
          ]
        }
      ]
    },
    {
      "cell_type": "markdown",
      "source": [
        "## Model testing"
      ],
      "metadata": {
        "id": "NSgYh1nUvf_4"
      }
    },
    {
      "cell_type": "code",
      "source": [
        "# Gunakan model untuk membuat prediksi\n",
        "def predict_emotion(model, tokenizer, text):\n",
        "    # Tokenisasi teks\n",
        "    sequences = tokenizer.texts_to_sequences([text])\n",
        "    padded = pad_sequences(sequences, maxlen=max_length, padding=padding_type, truncating=trunc_type)\n",
        "    # Lakukan prediksi\n",
        "    prediction = model.predict(padded)\n",
        "    # Ambil label emosi yang paling mungkin\n",
        "    label = np.argmax(prediction)\n",
        "    # Konversi label kembali ke label teks\n",
        "    label_map = {v: k for k, v in label_tokenizer.word_index.items()}\n",
        "    emotion = label_map[label]\n",
        "    return emotion\n",
        "\n",
        "sentences = [\n",
        "    \"Winning the customer service award filled me with joy and pride, knowing that my hard work and dedication were recognized.\",\n",
        "    \"The repeated delays and poor customer service from this company have left me feeling angry and frustrated, leading me to consider taking my business elsewhere.\"\n",
        "]\n",
        "\n",
        "# Prediksi emosi untuk setiap kalimat\n",
        "for sentence in sentences:\n",
        "    emotion = predict_emotion(rnn_model, tokenizer, sentence)\n",
        "    print(f\"Kalimat: {sentence}\")\n",
        "    print(f\"Emosi: {emotion}\")\n",
        "    print()"
      ],
      "metadata": {
        "id": "rCCIHy6qW1xb",
        "colab": {
          "base_uri": "https://localhost:8080/"
        },
        "outputId": "4a8b6dee-dbe3-4a48-9395-beb0c469bbb9"
      },
      "execution_count": 142,
      "outputs": [
        {
          "output_type": "stream",
          "name": "stdout",
          "text": [
            "1/1 [==============================] - 0s 28ms/step\n",
            "Kalimat: Winning the customer service award filled me with joy and pride, knowing that my hard work and dedication were recognized.\n",
            "Emosi: joy\n",
            "\n",
            "1/1 [==============================] - 0s 27ms/step\n",
            "Kalimat: The repeated delays and poor customer service from this company have left me feeling angry and frustrated, leading me to consider taking my business elsewhere.\n",
            "Emosi: anger\n",
            "\n"
          ]
        }
      ]
    },
    {
      "cell_type": "markdown",
      "source": [
        "--- End of Code ---"
      ],
      "metadata": {
        "id": "lpIZAkOUWrfw"
      }
    }
  ]
}